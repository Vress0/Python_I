{
 "cells": [
  {
   "cell_type": "code",
   "execution_count": 1,
   "id": "0c2886c8",
   "metadata": {},
   "outputs": [
    {
     "name": "stdout",
     "output_type": "stream",
     "text": [
      "144\n",
      "===============\n",
      "170\n",
      "===============\n",
      "164\n",
      "===============\n",
      "167\n",
      "===============\n",
      "177\n",
      "===============\n"
     ]
    }
   ],
   "source": [
    "\n",
    "student1 = [69, 78, 72, 91, 85]\n",
    "student2 = [75, 92, 92, 76, 92]\n",
    "\n",
    "for i in range(len(student1)):\n",
    "    scores = student1[i] + student2[i]\n",
    "    print(scores)\n",
    "    print(\"===============\")"
   ]
  },
  {
   "cell_type": "code",
   "execution_count": 2,
   "id": "a63f5801",
   "metadata": {},
   "outputs": [
    {
     "data": {
      "text/plain": [
       "[69, 78, 72, 91, 85, 75, 92, 92, 76, 92]"
      ]
     },
     "execution_count": 2,
     "metadata": {},
     "output_type": "execute_result"
    }
   ],
   "source": [
    "student1 = [69, 78, 72, 91, 85]\n",
    "student2 = [75, 92, 92, 76, 92]\n",
    "\n",
    "student1 + student2"
   ]
  },
  {
   "cell_type": "code",
   "execution_count": 3,
   "id": "4083c98d",
   "metadata": {},
   "outputs": [
    {
     "name": "stdout",
     "output_type": "stream",
     "text": [
      "144\n",
      "=========\n",
      "170\n",
      "=========\n",
      "164\n",
      "=========\n",
      "167\n",
      "=========\n",
      "177\n",
      "=========\n"
     ]
    }
   ],
   "source": [
    "import numpy as np\n",
    "from numpy import ndarray\n",
    "student1:ndarray = np.array([69, 78, 72, 91, 85])\n",
    "student2:ndarray = np.array([75, 92, 92, 76, 92])\n",
    "\n",
    "#可以做陣列運算,不需使用for...in\n",
    "totols:ndarray= student1 + student2\n",
    "for total in totols:\n",
    "    print(total)\n",
    "    print(\"=========\")"
   ]
  },
  {
   "cell_type": "code",
   "execution_count": 4,
   "id": "f2709ec6",
   "metadata": {},
   "outputs": [
    {
     "name": "stdout",
     "output_type": "stream",
     "text": [
      "[[1 2 3]\n",
      " [4 5 6]]\n",
      "2\n",
      "(2, 3)\n",
      "6\n",
      "int32\n"
     ]
    }
   ],
   "source": [
    "array:ndarray = np.array([[1,2,3],[4,5,6]])\n",
    "print(array)\n",
    "#property\n",
    "#ndim,shape,size,dtype\n",
    "\n",
    "print(array.ndim)\n",
    "print(array.shape)\n",
    "print(array.size)\n",
    "print(array.dtype)"
   ]
  },
  {
   "cell_type": "code",
   "execution_count": 5,
   "id": "42e387d2",
   "metadata": {},
   "outputs": [
    {
     "data": {
      "text/plain": [
       "array([[ 63,  73,  54,  56,  83],\n",
       "       [ 70,  69,  50,  96,  61],\n",
       "       [ 72,  66,  75,  83,  71],\n",
       "       [ 83,  51,  67,  59,  93],\n",
       "       [ 90,  64,  80,  71,  89],\n",
       "       [ 81,  85,  73,  60,  90],\n",
       "       [ 70,  67,  83,  54,  84],\n",
       "       [ 83,  65,  92,  69,  81],\n",
       "       [ 95,  85,  75,  76,  54],\n",
       "       [ 59,  90,  91,  72,  59],\n",
       "       [ 54,  58,  78,  98,  50],\n",
       "       [ 62,  68,  79, 100,  72],\n",
       "       [ 71,  92,  90,  70,  99],\n",
       "       [ 98,  54,  65,  70,  82],\n",
       "       [ 69,  76,  65,  61,  68],\n",
       "       [ 69,  94,  50,  67,  77],\n",
       "       [ 71,  69,  65,  69,  67],\n",
       "       [ 89,  60,  96,  91,  69],\n",
       "       [ 87,  88,  76,  86,  64],\n",
       "       [ 71,  59,  74,  71,  51],\n",
       "       [ 60,  93,  56,  93,  60],\n",
       "       [ 72,  86,  62,  94,  98],\n",
       "       [ 72,  50,  57,  63,  74],\n",
       "       [ 96,  51,  75,  70,  50],\n",
       "       [ 91,  70,  99,  53,  53],\n",
       "       [ 78,  89,  64,  74,  79],\n",
       "       [ 50,  92,  55,  96,  89],\n",
       "       [ 90,  84,  72,  60,  74],\n",
       "       [ 67,  87,  63,  74,  55],\n",
       "       [ 51,  88,  90,  60,  81],\n",
       "       [ 73,  97,  55,  53,  60],\n",
       "       [ 80,  72,  67,  66,  53],\n",
       "       [ 89,  57,  61,  52,  50],\n",
       "       [ 60,  55,  57,  96,  59],\n",
       "       [ 55,  84,  98,  58,  52],\n",
       "       [ 75,  69,  64,  85,  94],\n",
       "       [ 75,  87,  69,  91,  90],\n",
       "       [ 72,  81,  95,  58, 100],\n",
       "       [ 95,  62,  88,  54,  77],\n",
       "       [ 61,  98,  51,  76,  88],\n",
       "       [ 96,  60,  60,  83,  61],\n",
       "       [ 86,  78,  78,  78,  90],\n",
       "       [ 82,  58,  89,  72,  62],\n",
       "       [ 64,  79,  73,  92,  83],\n",
       "       [ 61,  65,  81,  88,  63],\n",
       "       [ 91,  74,  87,  61,  92],\n",
       "       [100,  55,  92,  98,  95],\n",
       "       [ 79,  84,  50,  73,  82],\n",
       "       [ 93,  85, 100,  97,  87],\n",
       "       [ 77,  73,  83,  68,  85]])"
      ]
     },
     "execution_count": 5,
     "metadata": {},
     "output_type": "execute_result"
    }
   ],
   "source": [
    "np.random.randint(50,101,size=(50, 5))"
   ]
  }
 ],
 "metadata": {
  "kernelspec": {
   "display_name": "base",
   "language": "python",
   "name": "python3"
  },
  "language_info": {
   "codemirror_mode": {
    "name": "ipython",
    "version": 3
   },
   "file_extension": ".py",
   "mimetype": "text/x-python",
   "name": "python",
   "nbconvert_exporter": "python",
   "pygments_lexer": "ipython3",
   "version": "3.12.7"
  }
 },
 "nbformat": 4,
 "nbformat_minor": 5
}
