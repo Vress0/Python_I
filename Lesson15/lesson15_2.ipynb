{
 "cells": [
  {
   "cell_type": "code",
   "execution_count": null,
   "id": "5621d95c",
   "metadata": {},
   "outputs": [],
   "source": [
    "import matplotlib.pyplot as plt\n",
    "from matplotlib.font_manager import FontProperties\n",
    "'''\n",
    "#codespace\n",
    "#命令列:sudo apt-get update -y\n",
    "#命令列:sudo apt-get install -y fonts-wqy-zenhei\n",
    "#mac\n",
    "font=FontProperties(fname='/Library/Fonts/Arial Unicode.ttf',size=8)\n",
    "#windows\n",
    "font=FontProperties(fname=r'c:\\windows\\fonts\\simsun.ttc',size=8)\n",
    "'''\n",
    "font = FontProperties(fname='/usr/share/fonts/truetype/wqy/wqy-zenhei.ttc',size=8)\n",
    "\n",
    "student1 = {'國文':78, '英文':80, '數學':92, '歷史':75, '探索':85}\n",
    "student2 = {'國文':90, '英文':75, '數學':98, '歷史':65, '探索':75}\n",
    "keys = student1.keys()\n",
    "subject:list[str] = list(keys)\n",
    "values = student1.values()\n",
    "values1 = list(values)\n",
    "values2 = list(student2.values())\n",
    "\n",
    "#繪圖\n",
    "\n",
    "\n",
    "figure = plt.figure(figsize=(8,5),dpi=250,facecolor='#EEA9A9')\n",
    "axes = figure.add_subplot(1, 1, 1)\n",
    "axes.plot(subject,values1,'bo--',label='學生1')\n",
    "axes.plot(subject,values2,'ro-.',label='學生2')\n",
    "axes.grid(axis='y')\n",
    "axes.set_title(\"學生1 vs 學生2\",fontproperties=font)\n",
    "axes.set_xlabel('科目',fontproperties=font)\n",
    "axes.set_ylabel('分數',fontproperties=font)\n",
    "axes.set_xticklabels(subject,fontproperties=font)\n",
    "axes.legend([f'學生1',f'學生2'],prop=font)\n",
    "#print(axes.get_xticks())\n",
    "#print(axes.get_yticks())\n",
    "labels = axes.get_xticklabels()\n",
    "#print(labels)\n",
    "for text in labels:\n",
    "    subject_name = text.get_text()\n",
    "    score1 = student1[subject_name]\n",
    "    x_value = text.get_position()[0]\n",
    "    axes.annotate(str(score1),(x_value,score1+0.5))\n",
    "    score2 = student2[subject_name]\n",
    "    axes.annotate(str(score2),(x_value,score2+0.5))\n",
    "plt.show()"
   ]
  }
 ],
 "metadata": {
  "language_info": {
   "name": "python"
  }
 },
 "nbformat": 4,
 "nbformat_minor": 5
}
