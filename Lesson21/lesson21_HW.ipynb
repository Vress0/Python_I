{
 "cells": [
  {
   "cell_type": "markdown",
   "id": "11fd210f",
   "metadata": {},
   "source": [
    "嘗試統計台北市youbike各行政區的統計資料"
   ]
  },
  {
   "cell_type": "code",
   "execution_count": null,
   "id": "e372b175",
   "metadata": {},
   "outputs": [],
   "source": []
  }
 ],
 "metadata": {
  "language_info": {
   "name": "python"
  }
 },
 "nbformat": 4,
 "nbformat_minor": 5
}
