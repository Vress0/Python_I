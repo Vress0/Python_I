{
 "cells": [
  {
   "cell_type": "code",
   "execution_count": 1,
   "id": "f42b7e5a",
   "metadata": {},
   "outputs": [
    {
     "name": "stdout",
     "output_type": "stream",
     "text": [
      "dog\n",
      "cat\n"
     ]
    },
    {
     "data": {
      "text/plain": [
       "'dog'"
      ]
     },
     "execution_count": 1,
     "metadata": {},
     "output_type": "execute_result"
    }
   ],
   "source": [
    "from pydantic import RootModel\n",
    "\n",
    "class Pets(RootModel):\n",
    "    root: list[str]\n",
    "\n",
    "    def __iter__(self):\n",
    "        return iter(self.root)\n",
    "\n",
    "    def __getitem__(self, item):\n",
    "        return self.root[item]\n",
    "    \n",
    "pets = Pets.model_validate(['dog', 'cat'])\n",
    "for pet in pets:\n",
    "    print(pet)\n",
    "\n",
    "pets[0]"
   ]
  },
  {
   "cell_type": "code",
   "execution_count": null,
   "id": "095e65b8",
   "metadata": {},
   "outputs": [],
   "source": [
    "from pydantic import RootModel\n",
    "\n",
    "class Pets(RootModel):\n",
    "    print()"
   ]
  }
 ],
 "metadata": {
  "kernelspec": {
   "display_name": "base",
   "language": "python",
   "name": "python3"
  },
  "language_info": {
   "codemirror_mode": {
    "name": "ipython",
    "version": 3
   },
   "file_extension": ".py",
   "mimetype": "text/x-python",
   "name": "python",
   "nbconvert_exporter": "python",
   "pygments_lexer": "ipython3",
   "version": "3.12.7"
  }
 },
 "nbformat": 4,
 "nbformat_minor": 5
}
