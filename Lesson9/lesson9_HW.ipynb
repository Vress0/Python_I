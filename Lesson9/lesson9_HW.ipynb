{
 "cells": [
  {
   "cell_type": "markdown",
   "id": "013b65f8",
   "metadata": {},
   "source": [
    "建立class BMI\n",
    "建立attribute->name,height,weight\n",
    "建立property->bmi\n",
    "建立實體方法def status(self) -> str\n",
    "\n",
    "輸入\n",
    "    請輸入姓名:\n",
    "    請輸入身高:\n",
    "    請輸入體重:\n",
    "輸出\n",
    "    xxx您好:\n",
    "    您的bmi值是24.24\n",
    "    您的體重:正常"
   ]
  },
  {
   "cell_type": "code",
   "execution_count": null,
   "id": "2e9f3879",
   "metadata": {},
   "outputs": [
    {
     "name": "stdout",
     "output_type": "stream",
     "text": [
      "請輸入身高(120~230)(cm): \n",
      "請輸入體重(40~170)(kg): \n",
      "111你好:\n",
      "您的bmi值是:23.15\n",
      "您的體重:正常\n"
     ]
    }
   ],
   "source": [
    "# HW1\n",
    "import pyinputplus as pyip\n",
    "\n",
    "class BMI():\n",
    "    def __init__(self,name:str,height:float,weight:float):\n",
    "        super().__init__()\n",
    "        self.name = name\n",
    "        self.height = height\n",
    "        self.weight = weight\n",
    "    def __repr__(self):\n",
    "        return f\"{self.name}你好:\"\n",
    "    \n",
    "\n",
    "    @property\n",
    "    def bmi(self):\n",
    "        return self.weight / (self.height / 100) ** 2\n",
    "    \n",
    "    def status(self):\n",
    "        if self.bmi < 18.5:\n",
    "            result = '過輕'\n",
    "        elif self.bmi < 24:\n",
    "            result = '正常'\n",
    "        elif self.bmi < 27:\n",
    "            result = '過重'\n",
    "        elif self.bmi < 30:\n",
    "            result = '輕度肥胖'\n",
    "        elif self.bmi < 35:\n",
    "            result = '中度肥胖'\n",
    "        else:\n",
    "            result = '重度肥胖'\n",
    "        return result\n",
    "\n",
    "\n",
    "name:str = input('請輸入姓名: \\n')\n",
    "height:float = pyip.inputFloat('請輸入身高(120~230)(cm): \\n', min=120, max=230)\n",
    "weight:float = pyip.inputFloat('請輸入體重(40~170)(kg): \\n', min=40, max=170)\n",
    "\n",
    "p1 = BMI(name,height,weight)\n",
    "print(p1)\n",
    "print(f\"您的bmi值是:{p1.bmi:.2f}\")\n",
    "print(f\"您的體重:{p1.status()}\")"
   ]
  },
  {
   "cell_type": "markdown",
   "id": "72d762a1",
   "metadata": {},
   "source": [
    "建立class BMI\n",
    "建立Fields->name,height,weight\n",
    "建立property->bmi\n",
    "建立實體方法def status(self) -> str\n",
    "輸入\n",
    "    請輸入姓名:\n",
    "    請輸入身高:\n",
    "    請輸入體重:\n",
    "輸出\n",
    "    xxx您好:\n",
    "    您的bmi值是24.24\n",
    "    您的體重:正常"
   ]
  },
  {
   "cell_type": "code",
   "execution_count": 17,
   "id": "c61cb92e",
   "metadata": {},
   "outputs": [
    {
     "name": "stdout",
     "output_type": "stream",
     "text": [
      "請輸入身高(120~230)(cm): \n",
      "請輸入體重(40~170)(kg): \n",
      "111你好:\n",
      "您的bmi值是:23.15\n",
      "您的體重:正常\n"
     ]
    }
   ],
   "source": [
    "# HW2\n",
    "from dataclasses import dataclass\n",
    "@dataclass\n",
    "class BMI():\n",
    "    name:str\n",
    "    height:float\n",
    "    weight:float\n",
    "    def __repr__(self):\n",
    "        return f\"{self.name}你好:\"\n",
    "    \n",
    "\n",
    "    @property\n",
    "    def bmi(self):\n",
    "        return self.weight / (self.height / 100) ** 2\n",
    "    \n",
    "    def status(self):\n",
    "        if self.bmi < 18.5:\n",
    "            result = '過輕'\n",
    "        elif self.bmi < 24:\n",
    "            result = '正常'\n",
    "        elif self.bmi < 27:\n",
    "            result = '過重'\n",
    "        elif self.bmi < 30:\n",
    "            result = '輕度肥胖'\n",
    "        elif self.bmi < 35:\n",
    "            result = '中度肥胖'\n",
    "        else:\n",
    "            result = '重度肥胖'\n",
    "        return result\n",
    "\n",
    "\n",
    "name:str = input('請輸入姓名: \\n')\n",
    "height:float = pyip.inputFloat('請輸入身高(120~230)(cm): \\n', min=120, max=230)\n",
    "weight:float = pyip.inputFloat('請輸入體重(40~170)(kg): \\n', min=40, max=170)\n",
    "\n",
    "p1 = BMI(name,height,weight)\n",
    "print(p1)\n",
    "print(f\"您的bmi值是:{p1.bmi:.2f}\")\n",
    "print(f\"您的體重:{p1.status()}\")"
   ]
  }
 ],
 "metadata": {
  "kernelspec": {
   "display_name": "base",
   "language": "python",
   "name": "python3"
  },
  "language_info": {
   "codemirror_mode": {
    "name": "ipython",
    "version": 3
   },
   "file_extension": ".py",
   "mimetype": "text/x-python",
   "name": "python",
   "nbconvert_exporter": "python",
   "pygments_lexer": "ipython3",
   "version": "3.12.7"
  }
 },
 "nbformat": 4,
 "nbformat_minor": 5
}
