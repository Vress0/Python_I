{
 "cells": [
  {
   "cell_type": "code",
   "execution_count": null,
   "id": "8088795b",
   "metadata": {},
   "outputs": [],
   "source": [
    "print(\"Hello! Python\")"
   ]
  }
 ],
 "metadata": {
  "language_info": {
   "name": "python"
  }
 },
 "nbformat": 4,
 "nbformat_minor": 5
}
