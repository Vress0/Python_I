{
 "cells": [
  {
   "cell_type": "code",
   "execution_count": null,
   "id": "619be913",
   "metadata": {},
   "outputs": [],
   "source": [
    "#相關係數\n",
    "import numpy as np\n",
    "import pandas as pd\n",
    "\n",
    "data = {'年廣告費投入':[12.5, 15.3, 23.2, 26.4, 33.5, 34.4, 39.4, 45.2, 55.4, 60.9],\n",
    "            '月均銷售額':[21.2, 23.9, 32.9, 34.1, 42.5, 43.2, 49.0, 52.8, 59.4, 63.5]}\n",
    "df = pd.DataFrame(data,index=[2011,2012,2013,2014,2015,2016,2017,2018,2019,2020])\n",
    "df"
   ]
  },
  {
   "cell_type": "code",
   "execution_count": null,
   "id": "4641d0f4",
   "metadata": {},
   "outputs": [],
   "source": [
    "import matplotlib.pyplot as plt\n",
    "\n",
    "figure = plt.figure(figsize=(8,5))\n",
    "axes = figure.add_subplot()\n",
    "axes.plot(df.index,df['年廣告費投入'].values,'r-o')\n",
    "axes.plot(df.index,df['月均銷售額'].values,'b-o')\n",
    "plt.show()"
   ]
  },
  {
   "cell_type": "code",
   "execution_count": null,
   "id": "7b363c02",
   "metadata": {},
   "outputs": [],
   "source": [
    "\n",
    "df['年廣告費投入'].corr(df['月均銷售額'])"
   ]
  }
 ],
 "metadata": {
  "language_info": {
   "name": "python"
  }
 },
 "nbformat": 4,
 "nbformat_minor": 5
}
