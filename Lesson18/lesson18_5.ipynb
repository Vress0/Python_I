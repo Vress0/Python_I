{
 "cells": [
  {
   "cell_type": "code",
   "execution_count": 5,
   "id": "6c7501db",
   "metadata": {},
   "outputs": [
    {
     "ename": "AttributeError",
     "evalue": "module 'yfinance' has no attribute 'pdr_override'",
     "output_type": "error",
     "traceback": [
      "\u001b[1;31m---------------------------------------------------------------------------\u001b[0m",
      "\u001b[1;31mAttributeError\u001b[0m                            Traceback (most recent call last)",
      "Cell \u001b[1;32mIn[5], line 3\u001b[0m\n\u001b[0;32m      1\u001b[0m \u001b[38;5;28;01mimport\u001b[39;00m \u001b[38;5;21;01mpandas_datareader\u001b[39;00m\u001b[38;5;21;01m.\u001b[39;00m\u001b[38;5;21;01mdata\u001b[39;00m \u001b[38;5;28;01mas\u001b[39;00m \u001b[38;5;21;01mpdr\u001b[39;00m\n\u001b[0;32m      2\u001b[0m \u001b[38;5;28;01mimport\u001b[39;00m \u001b[38;5;21;01myfinance\u001b[39;00m \u001b[38;5;28;01mas\u001b[39;00m \u001b[38;5;21;01myf\u001b[39;00m\n\u001b[1;32m----> 3\u001b[0m yf\u001b[38;5;241m.\u001b[39mpdr_override()\n\u001b[0;32m      4\u001b[0m pdr\u001b[38;5;241m.\u001b[39mget_data_yahoo(\u001b[38;5;124m'\u001b[39m\u001b[38;5;124mAAPL\u001b[39m\u001b[38;5;124m'\u001b[39m)\n",
      "\u001b[1;31mAttributeError\u001b[0m: module 'yfinance' has no attribute 'pdr_override'"
     ]
    }
   ],
   "source": [
    "import pandas_datareader.data as pdr\n",
    "import yfinance as yf\n",
    "yf.pdr_override()\n",
    "pdr.get_data_yahoo('AAPL')"
   ]
  },
  {
   "cell_type": "code",
   "execution_count": null,
   "id": "38dd6c84",
   "metadata": {},
   "outputs": [],
   "source": [
    "\n",
    "[i for i in range(5,10)]"
   ]
  },
  {
   "cell_type": "code",
   "execution_count": 6,
   "id": "bc23a982",
   "metadata": {},
   "outputs": [
    {
     "ename": "RemoteDataError",
     "evalue": "Unable to read URL: https://finance.yahoo.com/quote/AAPL/history?period1=1593547200&period2=1751313599&interval=1d&frequency=1d&filter=history\nResponse Text:\nb'<html><meta charset=\\'utf-8\\'>\\n<script>\\nif(window != window.top){\\ndocument.write(\\'<p>Content is currently unavailable.</p><img src=\"//geo.yahoo.com/p?s=1197757039&t=\\'\\n    + new Date().getTime() + \\'&_R=\\'\\n    + encodeURIComponent(document.referrer)\\n    + \\'&err=404\\'\\n    + \\'\" width=\"0px\" height=\"0px\"/>\\');\\n}else{\\nwindow.location.replace(\\'https://\\' + window.location.host + \\'/?err=404\\');\\n}\\n</script>\\n<noscript>\\n<META http-equiv=\"refresh\" content=\"0;URL=https://finance.yahoo.com/?err=404\">\\n</noscript></html>'",
     "output_type": "error",
     "traceback": [
      "\u001b[1;31m---------------------------------------------------------------------------\u001b[0m",
      "\u001b[1;31mRemoteDataError\u001b[0m                           Traceback (most recent call last)",
      "Cell \u001b[1;32mIn[6], line 1\u001b[0m\n\u001b[1;32m----> 1\u001b[0m all_data \u001b[38;5;241m=\u001b[39m {item:pdr\u001b[38;5;241m.\u001b[39mget_data_yahoo(item) \u001b[38;5;28;01mfor\u001b[39;00m item \u001b[38;5;129;01min\u001b[39;00m [\u001b[38;5;124m'\u001b[39m\u001b[38;5;124mAAPL\u001b[39m\u001b[38;5;124m'\u001b[39m, \u001b[38;5;124m'\u001b[39m\u001b[38;5;124mIBM\u001b[39m\u001b[38;5;124m'\u001b[39m, \u001b[38;5;124m'\u001b[39m\u001b[38;5;124mMSFT\u001b[39m\u001b[38;5;124m'\u001b[39m, \u001b[38;5;124m'\u001b[39m\u001b[38;5;124mGOOG\u001b[39m\u001b[38;5;124m'\u001b[39m]}\n",
      "File \u001b[1;32mc:\\Users\\Ryan\\anaconda3\\Lib\\site-packages\\pandas_datareader\\data.py:80\u001b[0m, in \u001b[0;36mget_data_yahoo\u001b[1;34m(*args, **kwargs)\u001b[0m\n\u001b[0;32m     79\u001b[0m \u001b[38;5;28;01mdef\u001b[39;00m \u001b[38;5;21mget_data_yahoo\u001b[39m(\u001b[38;5;241m*\u001b[39margs, \u001b[38;5;241m*\u001b[39m\u001b[38;5;241m*\u001b[39mkwargs):\n\u001b[1;32m---> 80\u001b[0m     \u001b[38;5;28;01mreturn\u001b[39;00m YahooDailyReader(\u001b[38;5;241m*\u001b[39margs, \u001b[38;5;241m*\u001b[39m\u001b[38;5;241m*\u001b[39mkwargs)\u001b[38;5;241m.\u001b[39mread()\n",
      "File \u001b[1;32mc:\\Users\\Ryan\\anaconda3\\Lib\\site-packages\\pandas_datareader\\base.py:253\u001b[0m, in \u001b[0;36m_DailyBaseReader.read\u001b[1;34m(self)\u001b[0m\n\u001b[0;32m    251\u001b[0m \u001b[38;5;66;03m# If a single symbol, (e.g., 'GOOG')\u001b[39;00m\n\u001b[0;32m    252\u001b[0m \u001b[38;5;28;01mif\u001b[39;00m \u001b[38;5;28misinstance\u001b[39m(\u001b[38;5;28mself\u001b[39m\u001b[38;5;241m.\u001b[39msymbols, (string_types, \u001b[38;5;28mint\u001b[39m)):\n\u001b[1;32m--> 253\u001b[0m     df \u001b[38;5;241m=\u001b[39m \u001b[38;5;28mself\u001b[39m\u001b[38;5;241m.\u001b[39m_read_one_data(\u001b[38;5;28mself\u001b[39m\u001b[38;5;241m.\u001b[39murl, params\u001b[38;5;241m=\u001b[39m\u001b[38;5;28mself\u001b[39m\u001b[38;5;241m.\u001b[39m_get_params(\u001b[38;5;28mself\u001b[39m\u001b[38;5;241m.\u001b[39msymbols))\n\u001b[0;32m    254\u001b[0m \u001b[38;5;66;03m# Or multiple symbols, (e.g., ['GOOG', 'AAPL', 'MSFT'])\u001b[39;00m\n\u001b[0;32m    255\u001b[0m \u001b[38;5;28;01melif\u001b[39;00m \u001b[38;5;28misinstance\u001b[39m(\u001b[38;5;28mself\u001b[39m\u001b[38;5;241m.\u001b[39msymbols, DataFrame):\n",
      "File \u001b[1;32mc:\\Users\\Ryan\\anaconda3\\Lib\\site-packages\\pandas_datareader\\yahoo\\daily.py:149\u001b[0m, in \u001b[0;36mYahooDailyReader._read_one_data\u001b[1;34m(self, url, params)\u001b[0m\n\u001b[0;32m    146\u001b[0m \u001b[38;5;28;01mdel\u001b[39;00m params[\u001b[38;5;124m\"\u001b[39m\u001b[38;5;124msymbol\u001b[39m\u001b[38;5;124m\"\u001b[39m]\n\u001b[0;32m    147\u001b[0m url \u001b[38;5;241m=\u001b[39m url\u001b[38;5;241m.\u001b[39mformat(symbol)\n\u001b[1;32m--> 149\u001b[0m resp \u001b[38;5;241m=\u001b[39m \u001b[38;5;28mself\u001b[39m\u001b[38;5;241m.\u001b[39m_get_response(url, params\u001b[38;5;241m=\u001b[39mparams, headers\u001b[38;5;241m=\u001b[39m\u001b[38;5;28mself\u001b[39m\u001b[38;5;241m.\u001b[39mheaders)\n\u001b[0;32m    150\u001b[0m ptrn \u001b[38;5;241m=\u001b[39m \u001b[38;5;124mr\u001b[39m\u001b[38;5;124m\"\u001b[39m\u001b[38;5;124mroot\u001b[39m\u001b[38;5;124m\\\u001b[39m\u001b[38;5;124m.App\u001b[39m\u001b[38;5;124m\\\u001b[39m\u001b[38;5;124m.main = (.*?);\u001b[39m\u001b[38;5;124m\\\u001b[39m\u001b[38;5;124mn}\u001b[39m\u001b[38;5;124m\\\u001b[39m\u001b[38;5;124m(this\u001b[39m\u001b[38;5;124m\\\u001b[39m\u001b[38;5;124m)\u001b[39m\u001b[38;5;124m\\\u001b[39m\u001b[38;5;124m);\u001b[39m\u001b[38;5;124m\"\u001b[39m\n\u001b[0;32m    151\u001b[0m \u001b[38;5;28;01mtry\u001b[39;00m:\n",
      "File \u001b[1;32mc:\\Users\\Ryan\\anaconda3\\Lib\\site-packages\\pandas_datareader\\base.py:181\u001b[0m, in \u001b[0;36m_BaseReader._get_response\u001b[1;34m(self, url, params, headers)\u001b[0m\n\u001b[0;32m    178\u001b[0m \u001b[38;5;28;01mif\u001b[39;00m last_response_text:\n\u001b[0;32m    179\u001b[0m     msg \u001b[38;5;241m+\u001b[39m\u001b[38;5;241m=\u001b[39m \u001b[38;5;124m\"\u001b[39m\u001b[38;5;130;01m\\n\u001b[39;00m\u001b[38;5;124mResponse Text:\u001b[39m\u001b[38;5;130;01m\\n\u001b[39;00m\u001b[38;5;132;01m{0}\u001b[39;00m\u001b[38;5;124m\"\u001b[39m\u001b[38;5;241m.\u001b[39mformat(last_response_text)\n\u001b[1;32m--> 181\u001b[0m \u001b[38;5;28;01mraise\u001b[39;00m RemoteDataError(msg)\n",
      "\u001b[1;31mRemoteDataError\u001b[0m: Unable to read URL: https://finance.yahoo.com/quote/AAPL/history?period1=1593547200&period2=1751313599&interval=1d&frequency=1d&filter=history\nResponse Text:\nb'<html><meta charset=\\'utf-8\\'>\\n<script>\\nif(window != window.top){\\ndocument.write(\\'<p>Content is currently unavailable.</p><img src=\"//geo.yahoo.com/p?s=1197757039&t=\\'\\n    + new Date().getTime() + \\'&_R=\\'\\n    + encodeURIComponent(document.referrer)\\n    + \\'&err=404\\'\\n    + \\'\" width=\"0px\" height=\"0px\"/>\\');\\n}else{\\nwindow.location.replace(\\'https://\\' + window.location.host + \\'/?err=404\\');\\n}\\n</script>\\n<noscript>\\n<META http-equiv=\"refresh\" content=\"0;URL=https://finance.yahoo.com/?err=404\">\\n</noscript></html>'"
     ]
    }
   ],
   "source": [
    "\n",
    "all_data = {item:pdr.get_data_yahoo(item) for item in ['AAPL', 'IBM', 'MSFT', 'GOOG']}"
   ]
  },
  {
   "cell_type": "code",
   "execution_count": null,
   "id": "12313501",
   "metadata": {},
   "outputs": [],
   "source": [
    "test = {item:0 for item in ['AAPL', 'IBM', 'MSFT', 'GOOG']}\n",
    "for key,value in test.items():\n",
    "    print(key)\n",
    "    print(value)"
   ]
  },
  {
   "cell_type": "code",
   "execution_count": null,
   "id": "4756ec16",
   "metadata": {},
   "outputs": [],
   "source": [
    "import pandas as pd\n",
    "pd.DataFrame({key:df['Adj Close'] for key,df in all_data.items()})"
   ]
  },
  {
   "cell_type": "code",
   "execution_count": null,
   "id": "dd486fa8",
   "metadata": {},
   "outputs": [],
   "source": []
  }
 ],
 "metadata": {
  "kernelspec": {
   "display_name": "base",
   "language": "python",
   "name": "python3"
  },
  "language_info": {
   "codemirror_mode": {
    "name": "ipython",
    "version": 3
   },
   "file_extension": ".py",
   "mimetype": "text/x-python",
   "name": "python",
   "nbconvert_exporter": "python",
   "pygments_lexer": "ipython3",
   "version": "3.12.7"
  }
 },
 "nbformat": 4,
 "nbformat_minor": 5
}
