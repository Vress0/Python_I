{
 "cells": [
  {
   "cell_type": "code",
   "execution_count": null,
   "id": "7cbf335d",
   "metadata": {},
   "outputs": [],
   "source": [
    "import numpy as np\n",
    "import pandas as pd\n",
    "\n",
    "scores = pd.DataFrame(np.random.randint(50,101,size=(50,5)),\n",
    "             columns=['國文', '英文', '數學', '地理', '歷史'],\n",
    "             index=range(1,51))\n",
    "scores"
   ]
  },
  {
   "cell_type": "code",
   "execution_count": null,
   "id": "d75f63b3",
   "metadata": {},
   "outputs": [],
   "source": [
    "\n",
    "def abc(s):\n",
    "    return pd.Series([s.min(),s.max(),s.mean()],index=['最低分','最高分','平均'])\n",
    "scores.apply(abc)"
   ]
  },
  {
   "cell_type": "code",
   "execution_count": null,
   "id": "6a77a90b",
   "metadata": {},
   "outputs": [],
   "source": [
    "scores.index = scores.index.map(lambda i:f'{i}號')\n",
    "scores"
   ]
  },
  {
   "cell_type": "code",
   "execution_count": null,
   "id": "8b69a73e",
   "metadata": {},
   "outputs": [],
   "source": [
    "def abc1(item):\n",
    "    less_student = item[item < 60]\n",
    "    less_count = less_student.count()\n",
    "    less_str = \",\".join(less_student.index.values.tolist())\n",
    "    \n",
    "    return pd.Series([item.sum(),item.mean(),less_count,less_str],index=['總分','平均','不及格科目數','不及格科目'])\n",
    "scores.apply(abc1,axis=1)"
   ]
  },
  {
   "cell_type": "code",
   "execution_count": null,
   "id": "e1772767",
   "metadata": {},
   "outputs": [],
   "source": [
    "one_student = scores.iloc[0]\n",
    "less_student = one_student[one_student < 60]\n",
    "less_student"
   ]
  },
  {
   "cell_type": "code",
   "execution_count": null,
   "id": "52625313",
   "metadata": {},
   "outputs": [],
   "source": [
    "less_student.count()\n",
    "\",\".join(less_student.index.values.tolist())"
   ]
  }
 ],
 "metadata": {
  "kernelspec": {
   "display_name": "base",
   "language": "python",
   "name": "python3"
  },
  "language_info": {
   "name": "python",
   "version": "3.12.7"
  }
 },
 "nbformat": 4,
 "nbformat_minor": 5
}
