{
 "cells": [
  {
   "cell_type": "code",
   "execution_count": null,
   "id": "c87dd0ef",
   "metadata": {},
   "outputs": [],
   "source": [
    "#reindex()\n",
    "import numpy as np\n",
    "import pandas as pd\n",
    "\n",
    "frame = pd.DataFrame(np.arange(9).reshape(3, 3),\n",
    "                     index=['a','c','d'],\n",
    "                     columns= ['台北', '台中', '高雄'])\n",
    "frame"
   ]
  },
  {
   "cell_type": "code",
   "execution_count": null,
   "id": "d3be3243",
   "metadata": {},
   "outputs": [],
   "source": [
    "\n",
    "#選取欄列->subscript,iloc[],loc[]\n",
    "frame.loc[['a','c'],['台北','台中']]"
   ]
  },
  {
   "cell_type": "code",
   "execution_count": null,
   "id": "aab516e6",
   "metadata": {},
   "outputs": [],
   "source": [
    "#選取欄列->reindex()\n",
    "frame.reindex(index=['a','c'],columns=['台北','台中'])"
   ]
  },
  {
   "cell_type": "code",
   "execution_count": null,
   "id": "7b00e62a",
   "metadata": {},
   "outputs": [],
   "source": [
    "#drop()\n",
    "df = pd.DataFrame(np.arange(16).reshape(4,4),\n",
    "                   index=['台北','台中', '台南', '高雄'],\n",
    "                   columns=['one', 'two', 'three', 'four'])\n",
    "df"
   ]
  },
  {
   "cell_type": "code",
   "execution_count": null,
   "id": "9bca1a0f",
   "metadata": {},
   "outputs": [],
   "source": [
    "\n",
    "df.drop(index='台中',columns='four')"
   ]
  }
 ],
 "metadata": {
  "language_info": {
   "name": "python"
  }
 },
 "nbformat": 4,
 "nbformat_minor": 5
}
