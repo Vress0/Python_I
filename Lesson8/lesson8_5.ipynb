{
 "cells": [
  {
   "cell_type": "code",
   "execution_count": null,
   "id": "a11f25c3",
   "metadata": {},
   "outputs": [],
   "source": [
    "#type hint,function一定要加型別的提示\n",
    "def add(a:int,b:int)->int:\n",
    "    return a + b\n",
    "\n",
    "def multiply(a:int | float,b:int | float)->int | float:\n",
    "    return a * b\n",
    "\n",
    "add(5,10)\n",
    "multiply(76,2.0)"
   ]
  }
 ],
 "metadata": {
  "language_info": {
   "name": "python"
  }
 },
 "nbformat": 4,
 "nbformat_minor": 5
}
