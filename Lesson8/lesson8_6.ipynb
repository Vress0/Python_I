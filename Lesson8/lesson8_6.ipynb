{
 "cells": [
  {
   "cell_type": "code",
   "execution_count": null,
   "id": "ae2fef94",
   "metadata": {},
   "outputs": [],
   "source": [
    "def menu(wine:str, entree:str, dessert:str)->None:\n",
    "    print(f\"主餐:{entree}\")\n",
    "    print(f\"酒類:{wine}\")\n",
    "    print(f\"甜點:{dessert}\")"
   ]
  },
  {
   "cell_type": "code",
   "execution_count": null,
   "id": "d79f068e",
   "metadata": {},
   "outputs": [],
   "source": [
    "#引數值的呼叫,必需依據參數的順序\n",
    "menu('白酒','牛排','蛋糕')\n",
    "menu('紅酒','牛排','冰淇淋')"
   ]
  },
  {
   "cell_type": "code",
   "execution_count": null,
   "id": "18bd6f9b",
   "metadata": {},
   "outputs": [],
   "source": [
    "\n",
    "def menu(wine:str, entree:str, dessert:str)->None:\n",
    "    print(f\"主餐:{entree}\")\n",
    "    print(f\"酒類:{wine}\")\n",
    "    print(f\"甜點:{dessert}\")\n",
    "\n",
    "#引數名稱的呼叫,可以不依照順序\n",
    "menu(wine='白酒',entree='牛排',dessert='蛋糕')\n",
    "print(\"===========\")\n",
    "menu(entree='牛排',dessert='蛋糕',wine='白酒')"
   ]
  },
  {
   "cell_type": "code",
   "execution_count": null,
   "id": "655f3f08",
   "metadata": {},
   "outputs": [],
   "source": [
    "def menu(wine:str, entree:str, dessert:str)->None:\n",
    "    print(f\"主餐:{entree}\")\n",
    "    print(f\"酒類:{wine}\")\n",
    "    print(f\"甜點:{dessert}\")\n",
    "\n",
    "#混合呼叫\n",
    "#引數值呼叫+引數名稱的呼叫\n",
    "#引數值呼叫要依順序,引數名稱呼叫可不依順序\n",
    "menu('白酒',dessert='蛋糕',entree='牛排')\n",
    "print(\"==============\")\n",
    "menu('白酒','牛排',dessert='蛋糕')"
   ]
  },
  {
   "cell_type": "code",
   "execution_count": null,
   "id": "fc9b3083",
   "metadata": {},
   "outputs": [],
   "source": [
    "#參數如果有default value\n",
    "#參數如果有default value,一定要定義在最後面\n",
    "def menu(wine:str, entree:str, dessert:str='奶昔')->None:\n",
    "    print(f\"主餐:{entree}\")\n",
    "    print(f\"酒類:{wine}\")\n",
    "    print(f\"甜點:{dessert}\")\n",
    "\n",
    "#引數值呼叫\n",
    "menu('紅酒','雞排')\n",
    "print(\"==========\")\n",
    "#引數名稱呼叫\n",
    "menu(entree='雞排',wine='紅酒')\n",
    "print(\"==============\")\n",
    "#混合呼叫\n",
    "menu('紅酒','雞排',dessert='蛋糕')\n",
    "\n",
    "#menu,呼叫時最少需要2個引數"
   ]
  },
  {
   "cell_type": "code",
   "execution_count": null,
   "id": "c24d7bf3",
   "metadata": {},
   "outputs": [
    {
     "name": "stdout",
     "output_type": "stream",
     "text": [
      "()\n",
      "=========\n",
      "('雞排',)\n",
      "=========\n",
      "('雞排', '紅酒')\n",
      "==========\n",
      "('雞排', '紅酒', '奶昔')\n"
     ]
    }
   ],
   "source": [
    "#沒有限定數量的引數值呼叫\n",
    "def menu(*kind:str)->None:\n",
    "    print(kind)\n",
    "#傳出來會是tuple\n",
    "menu()\n",
    "print(\"=========\")\n",
    "menu('雞排')\n",
    "print(\"=========\")\n",
    "menu('雞排','紅酒')\n",
    "print(\"==========\")\n",
    "menu('雞排','紅酒','奶昔')"
   ]
  },
  {
   "cell_type": "code",
   "execution_count": null,
   "id": "d7025ab8",
   "metadata": {},
   "outputs": [],
   "source": [
    "#沒有限定數量的引數名稱呼叫\n",
    "def menu(**kind:str)->None:\n",
    "    print(kind)\n",
    "\n",
    "menu()\n",
    "print(\"=========\")\n",
    "menu(entree='雞排')\n",
    "print(\"=========\")\n",
    "menu(entree='雞排',wine='紅酒')\n",
    "print(\"==========\")\n",
    "menu(entree='雞排',wind='紅酒',dessert='奶昔')"
   ]
  },
  {
   "cell_type": "code",
   "execution_count": null,
   "id": "96e237c4",
   "metadata": {},
   "outputs": [],
   "source": [
    "def menu(*args:str,**kwargs:str)->None:\n",
    "    print(args)\n",
    "    print(kwargs)\n",
    "\n",
    "menu(1,2,3,5,4,one=1,two=2,three=3)"
   ]
  },
  {
   "cell_type": "code",
   "execution_count": null,
   "id": "8588e5ee",
   "metadata": {},
   "outputs": [],
   "source": [
    "print(1, 2, 4, 8, 9,sep=',')"
   ]
  }
 ],
 "metadata": {
  "kernelspec": {
   "display_name": "base",
   "language": "python",
   "name": "python3"
  },
  "language_info": {
   "codemirror_mode": {
    "name": "ipython",
    "version": 3
   },
   "file_extension": ".py",
   "mimetype": "text/x-python",
   "name": "python",
   "nbconvert_exporter": "python",
   "pygments_lexer": "ipython3",
   "version": "3.12.7"
  }
 },
 "nbformat": 4,
 "nbformat_minor": 5
}
