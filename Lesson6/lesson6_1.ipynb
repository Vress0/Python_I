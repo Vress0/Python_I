{
 "cells": [
  {
   "cell_type": "code",
   "execution_count": 1,
   "id": "03d80ffa",
   "metadata": {},
   "outputs": [
    {
     "name": "stdout",
     "output_type": "stream",
     "text": [
      "甲\n"
     ]
    }
   ],
   "source": [
    "#0~180~220\n",
    "scores = int(input(\"請輸入學生分數(最高300分)\"))\n",
    "if scores >= 220:\n",
    "    print(\"優\")\n",
    "else:\n",
    "    if scores >= 180:\n",
    "        print(\"甲\")\n",
    "    else:\n",
    "        print(\"不及格\")"
   ]
  },
  {
   "cell_type": "code",
   "execution_count": null,
   "id": "ba62bec5",
   "metadata": {},
   "outputs": [],
   "source": [
    "#0~180~220\n",
    "scores = int(input(\"請輸入學生分數(最高300分)\"))\n",
    "\n",
    "#多項選擇,3個只會執行其中一個\n",
    "if scores >= 220:\n",
    "    print(\"優\")\n",
    "elif scores >= 180:\n",
    "    print(\"甲\")\n",
    "else:\n",
    "    print(\"不及格\")"
   ]
  },
  {
   "cell_type": "code",
   "execution_count": null,
   "id": "05f328e9",
   "metadata": {},
   "outputs": [],
   "source": [
    "#90(含)~100分為「優」\n",
    "#80(含)~89分為「甲」\n",
    "#70(含)~79分為「乙」\n",
    "#60(含)~69分為「丙」\n",
    "#0(含)~59分為「丁」\n",
    "score = int(input(\"請輸入學生分數:\"))\n",
    "\n",
    "if score<60:\n",
    "    grade = '丁'\n",
    "elif score<70:\n",
    "    grade = '丙'\n",
    "elif score<80:\n",
    "    grade = '乙'\n",
    "elif score<90:\n",
    "    grade = '甲'\n",
    "else:\n",
    "    grade = '優'\n",
    "\n",
    "print(grade)"
   ]
  }
 ],
 "metadata": {
  "kernelspec": {
   "display_name": "base",
   "language": "python",
   "name": "python3"
  },
  "language_info": {
   "codemirror_mode": {
    "name": "ipython",
    "version": 3
   },
   "file_extension": ".py",
   "mimetype": "text/x-python",
   "name": "python",
   "nbconvert_exporter": "python",
   "pygments_lexer": "ipython3",
   "version": "3.12.7"
  }
 },
 "nbformat": 4,
 "nbformat_minor": 5
}
